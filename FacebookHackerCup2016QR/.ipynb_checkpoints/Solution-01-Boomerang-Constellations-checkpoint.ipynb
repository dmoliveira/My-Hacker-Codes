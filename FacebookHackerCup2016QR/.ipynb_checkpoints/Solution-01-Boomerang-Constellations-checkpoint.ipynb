{
 "cells": [
  {
   "cell_type": "markdown",
   "metadata": {},
   "source": [
    "# Boomerang Constellations\n",
    "Author: [Oliveira, D. M.](http://www.github.com/dmoliveira)"
   ]
  },
  {
   "cell_type": "markdown",
   "metadata": {},
   "source": [
    "## 1. Introduction\n",
    "\n",
    "The night sky can be modeled as an infinite 2D plane. There are N stars at distinct positions on this plane, the ith of which is at coordinates (Xi, Yi).\n",
    "\n",
    "A boomerang constellation is a pair of distinct equal-length line segments which share a single endpoint, such that both endpoints of each segment coincide with a star's location.\n",
    "\n",
    "Two boomerang constellations are distinct if they're not made up of the same unordered pair of line segments. How many distinct boomerang constellations can you spot?\n",
    "\n",
    "**Input**\n",
    "Input begins with an integer T, the number of nights on which you look out at the sky. For each night, there is first a line containing the integer N. Then, N lines follow, the ith of which contains the space-separated integers Xi and Yi.\n",
    "\n",
    "**Output**\n",
    "For the ith night, print a line containing \"Case #i: \" followed by the number of boomerang constellations in the night sky.\n",
    "\n",
    "**Constraints**\n",
    "1 ≤ T ≤ 50 \n",
    "1 ≤ N ≤ 2,000 \n",
    "-10,000 ≤ Xi, Yi ≤ 10,000 \n",
    "\n",
    "**Explanation of Sample**\n",
    "On the first night, every pair of stars is a unique distance apart, so there are no boomerang constellations. On the second night, there are 4 boomerang constellations. One of them consists of the line segments (0,0)-(0,2) and (0,2)-(0,4)."
   ]
  },
  {
   "cell_type": "markdown",
   "metadata": {},
   "source": [
    "## 2. Solution"
   ]
  },
  {
   "cell_type": "code",
   "execution_count": 228,
   "metadata": {
    "collapsed": true
   },
   "outputs": [],
   "source": [
    "using DataStructures"
   ]
  },
  {
   "cell_type": "markdown",
   "metadata": {},
   "source": [
    "### 2.1. Read Input Data"
   ]
  },
  {
   "cell_type": "code",
   "execution_count": 54,
   "metadata": {
    "collapsed": false
   },
   "outputs": [
    {
     "data": {
      "text/plain": [
       "read_nights (generic function with 1 method)"
      ]
     },
     "execution_count": 54,
     "metadata": {},
     "output_type": "execute_result"
    }
   ],
   "source": [
    "function read_nights(filename)\n",
    "    \n",
    "    input_file = open(filename)\n",
    "    nights = Array[]\n",
    "    \n",
    "    for m=1:parse(Int, readline(input_file))\n",
    "        push!(nights, Array[])\n",
    "        for n=1:parse(Int, readline(input_file))\n",
    "            x, y = split(readline(input_file), ' ')\n",
    "            x, y = parse(Int, x), parse(Int, y)\n",
    "            push!(nights[m], [x, y])\n",
    "        end\n",
    "    end\n",
    "    \n",
    "    close(input_file)\n",
    "    return nights\n",
    "end"
   ]
  },
  {
   "cell_type": "markdown",
   "metadata": {},
   "source": [
    "### 2.2. Calculate Boomerang Constellation for Night"
   ]
  },
  {
   "cell_type": "code",
   "execution_count": 313,
   "metadata": {
    "collapsed": false
   },
   "outputs": [
    {
     "data": {
      "text/plain": [
       "export_answer (generic function with 1 method)"
      ]
     },
     "execution_count": 313,
     "metadata": {},
     "output_type": "execute_result"
    }
   ],
   "source": [
    "has_intersection(point1, point2) = length(intersect(vcat(point1), vcat(point2))) > 0\n",
    "dist(point1, point2) = sqrt(sum((point1 - point2) .^ 2))\n",
    "\n",
    "function number_boomerang_constellation(stars)\n",
    "    distance_stars_map = calculate_distance_starts(stars)\n",
    "    return calculate_distinct_constellations(distance_stars_map)\n",
    "end\n",
    "\n",
    "function calculate_distance_starts(stars)\n",
    "    \n",
    "    N = length(stars)\n",
    "    distance_stars_map = DefaultDict(AbstractFloat, Array{Int}, () -> Array{Array}[])\n",
    "    \n",
    "    for i=1:N, j=2:N\n",
    "        i < j || continue\n",
    "        if has_intersection(stars[i], stars[j])\n",
    "            distance = dist(stars[i], stars[j])\n",
    "            append!(distance_stars_map[distance], [i, j])\n",
    "        end\n",
    "    end\n",
    "    \n",
    "    return distance_stars_map\n",
    "end\n",
    "\n",
    "function calculate_distinct_constellations(distance_point_map)\n",
    "    total = 0\n",
    "    \n",
    "    for key in keys(distance_point_map)\n",
    "        stars = distance_point_map[key]\n",
    "        n_stars = length(stars)\n",
    "        n_stars > 2 || continue\n",
    "        for i=2:2:n_stars\n",
    "            for j=i+1:2:n_stars\n",
    "                total += stars[i-1] == stars[j]   || stars[i] == stars[j] || \n",
    "                         stars[i-1] == stars[j+1] || stars[i] == stars[j+1]? 1 : 0\n",
    "            end\n",
    "        end\n",
    "    end\n",
    "    \n",
    "    return total\n",
    "end\n",
    "\n",
    "print_answer(results) = [\"Case #$i: $n\" for (i, n) in enumerate(results)]\n",
    "function export_answer(output_name, results)\n",
    "    output = open(output_name, \"w\")\n",
    "    [write(output, line * \"\\n\") for line in results]\n",
    "    flush(output)\n",
    "    close(output)\n",
    "end"
   ]
  },
  {
   "cell_type": "markdown",
   "metadata": {},
   "source": [
    "### Run Sample Data"
   ]
  },
  {
   "cell_type": "code",
   "execution_count": 316,
   "metadata": {
    "collapsed": false
   },
   "outputs": [
    {
     "data": {
      "text/plain": [
       "5-element Array{ByteString,1}:\n",
       " \"Case #1: 0\" \n",
       " \"Case #2: 4\" \n",
       " \"Case #3: 4\" \n",
       " \"Case #4: 1\" \n",
       " \"Case #5: 12\""
      ]
     },
     "execution_count": 316,
     "metadata": {},
     "output_type": "execute_result"
    }
   ],
   "source": [
    "nights = read_nights(\"data/boomerang_constellations_example_input.txt\")\n",
    "results = [number_boomerang_constellation(n) for n in nights]\n",
    "print_answer(results)"
   ]
  },
  {
   "cell_type": "markdown",
   "metadata": {},
   "source": [
    "### Run Submission Data"
   ]
  },
  {
   "cell_type": "code",
   "execution_count": 318,
   "metadata": {
    "collapsed": true
   },
   "outputs": [],
   "source": [
    "nights = read_nights(\"data/boomerang_constellations.txt\")\n",
    "results = [number_boomerang_constellation(n) for n in nights]\n",
    "results = print_answer(results);"
   ]
  },
  {
   "cell_type": "code",
   "execution_count": 319,
   "metadata": {
    "collapsed": true
   },
   "outputs": [],
   "source": [
    "export_answer(\"data/submission_01.txt\", results)"
   ]
  }
 ],
 "metadata": {
  "kernelspec": {
   "display_name": "Julia 0.4.1-pre",
   "language": "julia",
   "name": "julia-0.4"
  },
  "language_info": {
   "file_extension": ".jl",
   "mimetype": "application/julia",
   "name": "julia",
   "version": "0.4.1"
  }
 },
 "nbformat": 4,
 "nbformat_minor": 0
}
